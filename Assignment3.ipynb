{
 "cells": [
  {
   "cell_type": "markdown",
   "id": "5f1e6678",
   "metadata": {},
   "source": [
    "# Data Manipulation\n",
    "## INSTRUCTIONS \n",
    "\n",
    "Every learner should submit his/her own homework solutions. However, you are allowed to discuss the homework with each other– but everyone must submit his/her own solution; you may not copy someone else’s solution. \n",
    "\n",
    "Follow the prompts in the attached jupyter notebook. Download the data and place it in your working directory, or modify the path to upload it to your notebook. Add markdown cells to your analysis to include your solutions, comments, answers. Add as many cells as you need, for easy readability comment when possible.Make sure that you run your whole notebook before saving and sending it to us.\n",
    "\n",
    "Hopefully this homework will help you develop skills, make you understand data manipulation techniques.\n",
    "\n",
    "Submission: Send in both a ipynb and a html/pdf file of your work. \n",
    "\n",
    "Good luck!\n"
   ]
  },
  {
   "cell_type": "markdown",
   "id": "3f2f64e1",
   "metadata": {},
   "source": [
    "# Cleaning, wrangling data"
   ]
  },
  {
   "cell_type": "markdown",
   "id": "7888edb2",
   "metadata": {},
   "source": [
    "**Data cleaning focuses on removing inaccurate data from your data set whereas data wrangling focuses on transforming the data's format, typically by converting “raw” data into another format more suitable for use.\n",
    "This excersize uses the traffic_cameras file. Your task is to follow prompts to change, modify your data. Try your best!**"
   ]
  },
  {
   "cell_type": "code",
   "execution_count": 70,
   "id": "38d1560b",
   "metadata": {},
   "outputs": [],
   "source": [
    "#read in libraries\n",
    "import numpy as np\n",
    "from sklearn.datasets import load_iris\n",
    "from sklearn import preprocessing\n",
    "import pandas as pd\n",
    " "
   ]
  },
  {
   "cell_type": "code",
   "execution_count": 71,
   "id": "88d54d37",
   "metadata": {},
   "outputs": [
    {
     "data": {
      "text/html": [
       "<div>\n",
       "<style scoped>\n",
       "    .dataframe tbody tr th:only-of-type {\n",
       "        vertical-align: middle;\n",
       "    }\n",
       "\n",
       "    .dataframe tbody tr th {\n",
       "        vertical-align: top;\n",
       "    }\n",
       "\n",
       "    .dataframe thead th {\n",
       "        text-align: right;\n",
       "    }\n",
       "</style>\n",
       "<table border=\"1\" class=\"dataframe\">\n",
       "  <thead>\n",
       "    <tr style=\"text-align: right;\">\n",
       "      <th></th>\n",
       "      <th>Camera ID</th>\n",
       "      <th>Location Name</th>\n",
       "      <th>Camera Status</th>\n",
       "      <th>Turn on Date</th>\n",
       "      <th>Camera Manufacturer</th>\n",
       "      <th>ATD Location ID</th>\n",
       "      <th>Landmark</th>\n",
       "      <th>Signal Engineer Area</th>\n",
       "      <th>Council District</th>\n",
       "      <th>Jurisdiction</th>\n",
       "      <th>...</th>\n",
       "      <th>CROSS_ST_AKA</th>\n",
       "      <th>COA Intersection ID</th>\n",
       "      <th>Modified Date</th>\n",
       "      <th>IP Comm Status</th>\n",
       "      <th>IP Comm Status Date and Time</th>\n",
       "      <th>Published Screenshots</th>\n",
       "      <th>Screenshot Address</th>\n",
       "      <th>Funding</th>\n",
       "      <th>ID</th>\n",
       "      <th>Location</th>\n",
       "    </tr>\n",
       "  </thead>\n",
       "  <tbody>\n",
       "    <tr>\n",
       "      <th>0</th>\n",
       "      <td>370</td>\n",
       "      <td>PLEASANT VALLEY RD / NUCKOLS CROSSING RD</td>\n",
       "      <td>TURNED_ON</td>\n",
       "      <td>5/24/2018</td>\n",
       "      <td>Advidia</td>\n",
       "      <td>LOC16-003180</td>\n",
       "      <td>NaN</td>\n",
       "      <td>SOUTHEAST</td>\n",
       "      <td>2</td>\n",
       "      <td>AUSTIN FULL PURPOSE</td>\n",
       "      <td>...</td>\n",
       "      <td>NaN</td>\n",
       "      <td>5157009.0</td>\n",
       "      <td>10/28/2021 08:40:00 AM +0000</td>\n",
       "      <td>ONLINE</td>\n",
       "      <td>10/28/2021 08:30:00 AM +0000</td>\n",
       "      <td>NaN</td>\n",
       "      <td>https://cctv.austinmobility.io/image/370.jpg</td>\n",
       "      <td>1/4 Cent</td>\n",
       "      <td>591a10a020eacf2d16669b94</td>\n",
       "      <td>POINT (-97.7449036 30.1844883)</td>\n",
       "    </tr>\n",
       "    <tr>\n",
       "      <th>1</th>\n",
       "      <td>379</td>\n",
       "      <td>BARTON SPRINGS RD / KINNEY AVE</td>\n",
       "      <td>TURNED_ON</td>\n",
       "      <td>5/21/2018</td>\n",
       "      <td>Advidia</td>\n",
       "      <td>LOC16-000640</td>\n",
       "      <td>NaN</td>\n",
       "      <td>SOUTHWEST</td>\n",
       "      <td>5</td>\n",
       "      <td>AUSTIN FULL PURPOSE</td>\n",
       "      <td>...</td>\n",
       "      <td>NaN</td>\n",
       "      <td>5154418.0</td>\n",
       "      <td>10/29/2021 08:45:00 AM +0000</td>\n",
       "      <td>ONLINE</td>\n",
       "      <td>10/29/2021 08:35:00 AM +0000</td>\n",
       "      <td>NaN</td>\n",
       "      <td>https://cctv.austinmobility.io/image/379.jpg</td>\n",
       "      <td>1/4 Cent</td>\n",
       "      <td>591a10a020eacf2d16669ba6</td>\n",
       "      <td>POINT (-97.761467 30.261982)</td>\n",
       "    </tr>\n",
       "    <tr>\n",
       "      <th>2</th>\n",
       "      <td>404</td>\n",
       "      <td>SPRINGDALE RD / OAK SPRINGS DR</td>\n",
       "      <td>TURNED_ON</td>\n",
       "      <td>6/7/2018</td>\n",
       "      <td>Advidia</td>\n",
       "      <td>LOC16-000800</td>\n",
       "      <td>NaN</td>\n",
       "      <td>NORTHEAST</td>\n",
       "      <td>3, 1</td>\n",
       "      <td>AUSTIN FULL PURPOSE</td>\n",
       "      <td>...</td>\n",
       "      <td>NaN</td>\n",
       "      <td>5163165.0</td>\n",
       "      <td>10/29/2021 07:38:00 PM +0000</td>\n",
       "      <td>ONLINE</td>\n",
       "      <td>10/28/2021 08:35:00 AM +0000</td>\n",
       "      <td>NaN</td>\n",
       "      <td>https://cctv.austinmobility.io/image/404.jpg</td>\n",
       "      <td>1/4 Cent</td>\n",
       "      <td>591a10a120eacf2d16669bd8</td>\n",
       "      <td>POINT (-97.6904221 30.2735615)</td>\n",
       "    </tr>\n",
       "    <tr>\n",
       "      <th>3</th>\n",
       "      <td>447</td>\n",
       "      <td>BRAKER LN / STONELAKE BLVD</td>\n",
       "      <td>TURNED_ON</td>\n",
       "      <td>9/9/2016</td>\n",
       "      <td>Advidia</td>\n",
       "      <td>LOC16-003740</td>\n",
       "      <td>NaN</td>\n",
       "      <td>NORTHWEST</td>\n",
       "      <td>7</td>\n",
       "      <td>AUSTIN FULL PURPOSE</td>\n",
       "      <td>...</td>\n",
       "      <td>NaN</td>\n",
       "      <td>5156985.0</td>\n",
       "      <td>10/29/2021 07:49:00 PM +0000</td>\n",
       "      <td>ONLINE</td>\n",
       "      <td>10/23/2021 08:35:00 AM +0000</td>\n",
       "      <td>NaN</td>\n",
       "      <td>https://cctv.austinmobility.io/image/447.jpg</td>\n",
       "      <td>1/4 Cent</td>\n",
       "      <td>591a10a320eacf2d16669c2e</td>\n",
       "      <td>POINT (-97.7392883 30.3989582)</td>\n",
       "    </tr>\n",
       "    <tr>\n",
       "      <th>4</th>\n",
       "      <td>552</td>\n",
       "      <td>EXPOSITION BLVD / WESTOVER RD</td>\n",
       "      <td>TURNED_ON</td>\n",
       "      <td>2/24/2020</td>\n",
       "      <td>Advidia</td>\n",
       "      <td>LOC16-003710</td>\n",
       "      <td>NaN</td>\n",
       "      <td>CENTRAL</td>\n",
       "      <td>10</td>\n",
       "      <td>AUSTIN FULL PURPOSE</td>\n",
       "      <td>...</td>\n",
       "      <td>NaN</td>\n",
       "      <td>5153874.0</td>\n",
       "      <td>10/29/2021 07:47:00 PM +0000</td>\n",
       "      <td>ONLINE</td>\n",
       "      <td>10/20/2021 08:35:00 AM +0000</td>\n",
       "      <td>NaN</td>\n",
       "      <td>https://cctv.austinmobility.io/image/552.jpg</td>\n",
       "      <td>None Identified</td>\n",
       "      <td>5aa6bb0121cbcf4b8b767294</td>\n",
       "      <td>POINT (-97.7643051 30.3030338)</td>\n",
       "    </tr>\n",
       "  </tbody>\n",
       "</table>\n",
       "<p>5 rows × 28 columns</p>\n",
       "</div>"
      ],
      "text/plain": [
       "   Camera ID                              Location Name Camera Status  \\\n",
       "0        370   PLEASANT VALLEY RD / NUCKOLS CROSSING RD     TURNED_ON   \n",
       "1        379             BARTON SPRINGS RD / KINNEY AVE     TURNED_ON   \n",
       "2        404             SPRINGDALE RD / OAK SPRINGS DR     TURNED_ON   \n",
       "3        447                 BRAKER LN / STONELAKE BLVD     TURNED_ON   \n",
       "4        552              EXPOSITION BLVD / WESTOVER RD     TURNED_ON   \n",
       "\n",
       "  Turn on Date Camera Manufacturer ATD Location ID Landmark  \\\n",
       "0    5/24/2018             Advidia    LOC16-003180      NaN   \n",
       "1    5/21/2018             Advidia    LOC16-000640      NaN   \n",
       "2     6/7/2018             Advidia    LOC16-000800      NaN   \n",
       "3     9/9/2016             Advidia    LOC16-003740      NaN   \n",
       "4    2/24/2020             Advidia    LOC16-003710      NaN   \n",
       "\n",
       "  Signal Engineer Area Council District         Jurisdiction  ...  \\\n",
       "0            SOUTHEAST                2  AUSTIN FULL PURPOSE  ...   \n",
       "1            SOUTHWEST                5  AUSTIN FULL PURPOSE  ...   \n",
       "2            NORTHEAST             3, 1  AUSTIN FULL PURPOSE  ...   \n",
       "3            NORTHWEST                7  AUSTIN FULL PURPOSE  ...   \n",
       "4              CENTRAL               10  AUSTIN FULL PURPOSE  ...   \n",
       "\n",
       "  CROSS_ST_AKA  COA Intersection ID                 Modified Date  \\\n",
       "0          NaN            5157009.0  10/28/2021 08:40:00 AM +0000   \n",
       "1          NaN            5154418.0  10/29/2021 08:45:00 AM +0000   \n",
       "2          NaN            5163165.0  10/29/2021 07:38:00 PM +0000   \n",
       "3          NaN            5156985.0  10/29/2021 07:49:00 PM +0000   \n",
       "4          NaN            5153874.0  10/29/2021 07:47:00 PM +0000   \n",
       "\n",
       "   IP Comm Status  IP Comm Status Date and Time  Published Screenshots  \\\n",
       "0          ONLINE  10/28/2021 08:30:00 AM +0000                    NaN   \n",
       "1          ONLINE  10/29/2021 08:35:00 AM +0000                    NaN   \n",
       "2          ONLINE  10/28/2021 08:35:00 AM +0000                    NaN   \n",
       "3          ONLINE  10/23/2021 08:35:00 AM +0000                    NaN   \n",
       "4          ONLINE  10/20/2021 08:35:00 AM +0000                    NaN   \n",
       "\n",
       "                             Screenshot Address          Funding  \\\n",
       "0  https://cctv.austinmobility.io/image/370.jpg         1/4 Cent   \n",
       "1  https://cctv.austinmobility.io/image/379.jpg         1/4 Cent   \n",
       "2  https://cctv.austinmobility.io/image/404.jpg         1/4 Cent   \n",
       "3  https://cctv.austinmobility.io/image/447.jpg         1/4 Cent   \n",
       "4  https://cctv.austinmobility.io/image/552.jpg  None Identified   \n",
       "\n",
       "                         ID                        Location  \n",
       "0  591a10a020eacf2d16669b94  POINT (-97.7449036 30.1844883)  \n",
       "1  591a10a020eacf2d16669ba6    POINT (-97.761467 30.261982)  \n",
       "2  591a10a120eacf2d16669bd8  POINT (-97.6904221 30.2735615)  \n",
       "3  591a10a320eacf2d16669c2e  POINT (-97.7392883 30.3989582)  \n",
       "4  5aa6bb0121cbcf4b8b767294  POINT (-97.7643051 30.3030338)  \n",
       "\n",
       "[5 rows x 28 columns]"
      ]
     },
     "execution_count": 71,
     "metadata": {},
     "output_type": "execute_result"
    }
   ],
   "source": [
    "# Reading the CSV file\n",
    "df = pd.read_csv(\"./traffic_cameras.csv\")\n",
    " \n",
    "# Printing top 5 rows\n",
    "df.head()"
   ]
  },
  {
   "cell_type": "markdown",
   "id": "c4f907eb",
   "metadata": {},
   "source": [
    "### 1. How many rows and columns does your data have?"
   ]
  },
  {
   "cell_type": "markdown",
   "id": "b88b238f",
   "metadata": {},
   "source": [
    "#### The code rows, columns = df.shape retrieves the number of rows and columns in the DataFrame df, and then prints these dimensions as rows: <number_of_rows> and columns: <number_of_columns>."
   ]
  },
  {
   "cell_type": "code",
   "execution_count": 72,
   "id": "afcbcf2e",
   "metadata": {},
   "outputs": [
    {
     "name": "stdout",
     "output_type": "stream",
     "text": [
      "rows:  802\n",
      "columns:  28\n"
     ]
    }
   ],
   "source": [
    "### Your code goes here ###\n",
    "rows, columns = df.shape\n",
    "print(\"rows: \",rows)\n",
    "print(\"columns: \",columns)"
   ]
  },
  {
   "cell_type": "markdown",
   "id": "b75e4cfb",
   "metadata": {},
   "source": [
    "\n",
    "### Number of Rows: 802\n",
    "### Number of Columns: 28"
   ]
  },
  {
   "cell_type": "markdown",
   "id": "e5faa5c9",
   "metadata": {},
   "source": [
    "### 2. What can you tell us about the type of variables we have?"
   ]
  },
  {
   "cell_type": "markdown",
   "id": "4f2de40f",
   "metadata": {},
   "source": [
    "#### The code data_types = df.dtypes obtains the data types of each column in the DataFrame df, and print(data_types) outputs these data types."
   ]
  },
  {
   "cell_type": "code",
   "execution_count": 73,
   "id": "4842966f",
   "metadata": {},
   "outputs": [
    {
     "name": "stdout",
     "output_type": "stream",
     "text": [
      "Camera ID                         int64\n",
      "Location Name                    object\n",
      "Camera Status                    object\n",
      "Turn on Date                     object\n",
      "Camera Manufacturer              object\n",
      "ATD Location ID                  object\n",
      "Landmark                         object\n",
      "Signal Engineer Area             object\n",
      "Council District                 object\n",
      "Jurisdiction                     object\n",
      "Location Type                    object\n",
      "Primary St Segment ID           float64\n",
      "Cross St Segment ID             float64\n",
      "Primary Street Block            float64\n",
      "Primary Street                   object\n",
      "PRIMARY_ST_AKA                  float64\n",
      "Cross Street Block              float64\n",
      "Cross Street                     object\n",
      "CROSS_ST_AKA                    float64\n",
      "COA Intersection ID             float64\n",
      "Modified Date                    object\n",
      "IP Comm Status                   object\n",
      "IP Comm Status Date and Time     object\n",
      "Published Screenshots           float64\n",
      "Screenshot Address               object\n",
      "Funding                          object\n",
      "ID                               object\n",
      "Location                         object\n",
      "dtype: object\n"
     ]
    }
   ],
   "source": [
    "### Your code goes here ###\n",
    "data_types = df.dtypes\n",
    "\n",
    "print(data_types)"
   ]
  },
  {
   "cell_type": "markdown",
   "id": "449333e8",
   "metadata": {},
   "source": [
    "\n",
    "\n",
    "#### Camera ID                         int64\n",
    "#### Location Name                    object\n",
    "#### Camera Status                    object\n",
    "#### Turn on Date                     object\n",
    "#### Camera Manufacturer              object\n",
    "#### ATD Location ID                  object\n",
    "#### Landmark                         object\n",
    "#### Signal Engineer Area             object\n",
    "#### Council District                 object\n",
    "#### Jurisdiction                     object\n",
    "#### Location Type                    object\n",
    "#### Primary St Segment ID           float64\n",
    "#### Cross St Segment ID             float64\n",
    "#### Primary Street Block            float64\n",
    "#### Primary Street                   object\n",
    "#### PRIMARY_ST_AKA                  float64\n",
    "#### Cross Street Block              float64\n",
    "#### Cross Street                     object\n",
    "#### CROSS_ST_AKA                    float64\n",
    "#### COA Intersection ID             float64\n",
    "#### Modified Date                    object\n",
    "#### IP Comm Status                   object\n",
    "#### IP Comm Status Date and Time     object\n",
    "#### Published Screenshots           float64\n",
    "#### Screenshot Address               object\n",
    "#### Funding                          object\n",
    "#### ID                               object\n",
    "#### Location                         object\n",
    "\n",
    "\n"
   ]
  },
  {
   "cell_type": "markdown",
   "id": "75da969d",
   "metadata": {},
   "source": [
    "### 3. Delete only the columns that have all null values, name it df1 (nothing else, but null)"
   ]
  },
  {
   "cell_type": "markdown",
   "id": "ff3e8a46",
   "metadata": {},
   "source": [
    "#### The code df1 = df.dropna(axis=1, how='all') creates a new DataFrame df1 by removing columns from df that contain only missing values (NaNs) across all rows."
   ]
  },
  {
   "cell_type": "code",
   "execution_count": 74,
   "id": "be53db8d",
   "metadata": {},
   "outputs": [],
   "source": [
    "### Your code goes here ###\n",
    "df1 = df.dropna(axis=1, how='all')\n"
   ]
  },
  {
   "cell_type": "code",
   "execution_count": 75,
   "id": "3f42e860",
   "metadata": {},
   "outputs": [
    {
     "name": "stdout",
     "output_type": "stream",
     "text": [
      "<class 'pandas.core.frame.DataFrame'>\n",
      "RangeIndex: 802 entries, 0 to 801\n",
      "Data columns (total 23 columns):\n",
      " #   Column                        Non-Null Count  Dtype  \n",
      "---  ------                        --------------  -----  \n",
      " 0   Camera ID                     802 non-null    int64  \n",
      " 1   Location Name                 802 non-null    object \n",
      " 2   Camera Status                 802 non-null    object \n",
      " 3   Turn on Date                  442 non-null    object \n",
      " 4   Camera Manufacturer           646 non-null    object \n",
      " 5   ATD Location ID               802 non-null    object \n",
      " 6   Landmark                      94 non-null     object \n",
      " 7   Signal Engineer Area          799 non-null    object \n",
      " 8   Council District              790 non-null    object \n",
      " 9   Jurisdiction                  799 non-null    object \n",
      " 10  Location Type                 802 non-null    object \n",
      " 11  Primary Street Block          800 non-null    float64\n",
      " 12  Primary Street                801 non-null    object \n",
      " 13  Cross Street Block            757 non-null    float64\n",
      " 14  Cross Street                  765 non-null    object \n",
      " 15  COA Intersection ID           740 non-null    float64\n",
      " 16  Modified Date                 802 non-null    object \n",
      " 17  IP Comm Status                802 non-null    object \n",
      " 18  IP Comm Status Date and Time  802 non-null    object \n",
      " 19  Screenshot Address            802 non-null    object \n",
      " 20  Funding                       750 non-null    object \n",
      " 21  ID                            802 non-null    object \n",
      " 22  Location                      802 non-null    object \n",
      "dtypes: float64(3), int64(1), object(19)\n",
      "memory usage: 144.2+ KB\n"
     ]
    }
   ],
   "source": [
    "df1.info()"
   ]
  },
  {
   "cell_type": "markdown",
   "id": "5a4e6533",
   "metadata": {},
   "source": [
    "### 4. Dropp columns that have (any) null values name it df2"
   ]
  },
  {
   "cell_type": "markdown",
   "id": "3b1e9697",
   "metadata": {},
   "source": [
    "#### The code df2 = df1.dropna(axis=1, how='any') creates a new DataFrame df2 by removing columns from df1 that contain any missing values (NaNs)."
   ]
  },
  {
   "cell_type": "code",
   "execution_count": 76,
   "id": "b40f9dbd",
   "metadata": {},
   "outputs": [],
   "source": [
    "### drop the columns in which any row is empty.\n",
    "df2 = df1.dropna(axis=1, how='any')"
   ]
  },
  {
   "cell_type": "code",
   "execution_count": 77,
   "id": "bd374d91",
   "metadata": {},
   "outputs": [
    {
     "name": "stdout",
     "output_type": "stream",
     "text": [
      "<class 'pandas.core.frame.DataFrame'>\n",
      "RangeIndex: 802 entries, 0 to 801\n",
      "Data columns (total 11 columns):\n",
      " #   Column                        Non-Null Count  Dtype \n",
      "---  ------                        --------------  ----- \n",
      " 0   Camera ID                     802 non-null    int64 \n",
      " 1   Location Name                 802 non-null    object\n",
      " 2   Camera Status                 802 non-null    object\n",
      " 3   ATD Location ID               802 non-null    object\n",
      " 4   Location Type                 802 non-null    object\n",
      " 5   Modified Date                 802 non-null    object\n",
      " 6   IP Comm Status                802 non-null    object\n",
      " 7   IP Comm Status Date and Time  802 non-null    object\n",
      " 8   Screenshot Address            802 non-null    object\n",
      " 9   ID                            802 non-null    object\n",
      " 10  Location                      802 non-null    object\n",
      "dtypes: int64(1), object(10)\n",
      "memory usage: 69.0+ KB\n"
     ]
    },
    {
     "data": {
      "text/plain": [
       "(802, 11)"
      ]
     },
     "execution_count": 77,
     "metadata": {},
     "output_type": "execute_result"
    }
   ],
   "source": [
    "df2.info()\n",
    "df2.shape"
   ]
  },
  {
   "cell_type": "markdown",
   "id": "bee9f584",
   "metadata": {},
   "source": [
    "### 5. Rename column names in df2 so they are more usable (name the new dataframe df3) to the followings: cam_id, loc_name, cam_stat, atd_loc_id, loc_type, date, comm_stat, comm_stat_date, screen_addr, id, location"
   ]
  },
  {
   "cell_type": "code",
   "execution_count": 78,
   "id": "bd4eb82a",
   "metadata": {},
   "outputs": [],
   "source": [
    "### Your code goes here ###\n",
    "\n",
    "# Rename columns to more usable names\n",
    "df3 = df2.rename(columns={\n",
    "    'Camera ID': 'cam_id',\n",
    "    'Location Name': 'loc_name',\n",
    "    'Camera Status': 'cam_stat',\n",
    "    'ATD Location ID': 'atd_loc_id',\n",
    "    'Location Type': 'loc_type',\n",
    "    'Modified Date': 'date',\n",
    "    'IP Comm Status': 'comm_stat',\n",
    "    'IP Comm Status Date and Time': 'comm_stat_date',\n",
    "    'Screenshot Address': 'screen_addr',\n",
    "    'ID': 'id',\n",
    "    'Location': 'location'\n",
    "})\n",
    "\n",
    "# df3 is the DataFrame with the columns renamed\n"
   ]
  },
  {
   "cell_type": "code",
   "execution_count": 79,
   "id": "1c571fb9",
   "metadata": {},
   "outputs": [
    {
     "data": {
      "text/plain": [
       "<bound method NDFrame.head of      cam_id                                           loc_name   cam_stat  \\\n",
       "0       370           PLEASANT VALLEY RD / NUCKOLS CROSSING RD  TURNED_ON   \n",
       "1       379                     BARTON SPRINGS RD / KINNEY AVE  TURNED_ON   \n",
       "2       404                     SPRINGDALE RD / OAK SPRINGS DR  TURNED_ON   \n",
       "3       447                         BRAKER LN / STONELAKE BLVD  TURNED_ON   \n",
       "4       552                      EXPOSITION BLVD / WESTOVER RD  TURNED_ON   \n",
       "..      ...                                                ...        ...   \n",
       "797    1190                             GUADALUPE ST / 46TH ST  TURNED_ON   \n",
       "798    1274                    CESAR CHAVEZ ST / SAN MARCOS ST  TURNED_ON   \n",
       "799    1275                     BURNET RD / RESEARCH BLVD SVRD  TURNED_ON   \n",
       "800    1276   BASTROP HWY / MONTOPOLIS TO BASTROP NB RAMP (...  TURNED_ON   \n",
       "801    1277                       BURNET RD / BRIGHT VERDE WAY  TURNED_ON   \n",
       "\n",
       "       atd_loc_id loc_type                          date comm_stat  \\\n",
       "0    LOC16-003180  ROADWAY  10/28/2021 08:40:00 AM +0000    ONLINE   \n",
       "1    LOC16-000640  ROADWAY  10/29/2021 08:45:00 AM +0000    ONLINE   \n",
       "2    LOC16-000800  ROADWAY  10/29/2021 07:38:00 PM +0000    ONLINE   \n",
       "3    LOC16-003740  ROADWAY  10/29/2021 07:49:00 PM +0000    ONLINE   \n",
       "4    LOC16-003710  ROADWAY  10/29/2021 07:47:00 PM +0000    ONLINE   \n",
       "..            ...      ...                           ...       ...   \n",
       "797  LOC16-006535  ROADWAY  09/19/2021 06:17:00 PM +0000    ONLINE   \n",
       "798  LOC16-005790  ROADWAY  09/19/2021 06:17:00 PM +0000   OFFLINE   \n",
       "799  LOC16-003045  ROADWAY  09/19/2021 06:17:00 PM +0000    ONLINE   \n",
       "800  LOC21-017685  ROADWAY  10/31/2021 08:40:00 AM +0000    ONLINE   \n",
       "801  LOC20-017295  ROADWAY  09/19/2021 06:17:00 PM +0000    ONLINE   \n",
       "\n",
       "                   comm_stat_date  \\\n",
       "0    10/28/2021 08:30:00 AM +0000   \n",
       "1    10/29/2021 08:35:00 AM +0000   \n",
       "2    10/28/2021 08:35:00 AM +0000   \n",
       "3    10/23/2021 08:35:00 AM +0000   \n",
       "4    10/20/2021 08:35:00 AM +0000   \n",
       "..                            ...   \n",
       "797  06/08/2021 08:30:00 AM +0000   \n",
       "798  05/12/2021 08:30:00 AM +0000   \n",
       "799  03/13/2021 09:35:00 AM +0000   \n",
       "800  10/31/2021 08:30:00 AM +0000   \n",
       "801  06/17/2021 08:30:00 AM +0000   \n",
       "\n",
       "                                       screen_addr                        id  \\\n",
       "0     https://cctv.austinmobility.io/image/370.jpg  591a10a020eacf2d16669b94   \n",
       "1     https://cctv.austinmobility.io/image/379.jpg  591a10a020eacf2d16669ba6   \n",
       "2     https://cctv.austinmobility.io/image/404.jpg  591a10a120eacf2d16669bd8   \n",
       "3     https://cctv.austinmobility.io/image/447.jpg  591a10a320eacf2d16669c2e   \n",
       "4     https://cctv.austinmobility.io/image/552.jpg  5aa6bb0121cbcf4b8b767294   \n",
       "..                                             ...                       ...   \n",
       "797  https://cctv.austinmobility.io/image/1190.jpg  5f8da8c34e4035067602f80c   \n",
       "798  https://cctv.austinmobility.io/image/1274.jpg  5fa580608c53d7001593adf2   \n",
       "799  https://cctv.austinmobility.io/image/1275.jpg  604b73eed89027001b43b7ca   \n",
       "800  https://cctv.austinmobility.io/image/1276.jpg  60709789cd04d0001b7605d1   \n",
       "801  https://cctv.austinmobility.io/image/1277.jpg  60ca5d216ce423001e32595e   \n",
       "\n",
       "                           location  \n",
       "0    POINT (-97.7449036 30.1844883)  \n",
       "1      POINT (-97.761467 30.261982)  \n",
       "2    POINT (-97.6904221 30.2735615)  \n",
       "3    POINT (-97.7392883 30.3989582)  \n",
       "4    POINT (-97.7643051 30.3030338)  \n",
       "..                              ...  \n",
       "797     POINT (-97.73252 30.313028)  \n",
       "798  POINT (-97.7346111 30.2605892)  \n",
       "799  POINT (-97.7264786 30.3728848)  \n",
       "800  POINT (-97.6902124 30.2427789)  \n",
       "801        POINT (-97.7228 30.3883)  \n",
       "\n",
       "[802 rows x 11 columns]>"
      ]
     },
     "execution_count": 79,
     "metadata": {},
     "output_type": "execute_result"
    }
   ],
   "source": [
    "df3.head"
   ]
  },
  {
   "cell_type": "markdown",
   "id": "d4bf751e",
   "metadata": {},
   "source": [
    "### 6. Split \"date\" column into two  new columns within df3 ('Dates' and 'Time') /modify df3 data/"
   ]
  },
  {
   "cell_type": "markdown",
   "id": "b72e8884",
   "metadata": {},
   "source": [
    "#### The code snippet splits the 'date' column in df3 into two new columns, 'Dates' and 'Time', based on a space delimiter, then optionally drops the original 'date' column."
   ]
  },
  {
   "cell_type": "code",
   "execution_count": 80,
   "id": "1a6d0645",
   "metadata": {},
   "outputs": [],
   "source": [
    "### Your code goes here ###\n",
    "split_columns = df3['date'].str.split(' ', expand=True)\n",
    "\n",
    "# Assign the split columns to 'Dates' and 'Time'\n",
    "df3['Dates'] = split_columns[0]  # Assuming the date is the first part\n",
    "df3['Time'] = split_columns[1]  # Assuming the time is the second part\n",
    "\n",
    "# Optionally, if you want to drop the original 'date' column, you can uncomment the following line\n",
    "df3 = df3.drop(columns=['date'])"
   ]
  },
  {
   "cell_type": "code",
   "execution_count": 61,
   "id": "06a52aca",
   "metadata": {},
   "outputs": [
    {
     "data": {
      "text/plain": [
       "<bound method NDFrame.head of      cam_id                                           loc_name   cam_stat  \\\n",
       "0       370           PLEASANT VALLEY RD / NUCKOLS CROSSING RD  TURNED_ON   \n",
       "1       379                     BARTON SPRINGS RD / KINNEY AVE  TURNED_ON   \n",
       "2       404                     SPRINGDALE RD / OAK SPRINGS DR  TURNED_ON   \n",
       "3       447                         BRAKER LN / STONELAKE BLVD  TURNED_ON   \n",
       "4       552                      EXPOSITION BLVD / WESTOVER RD  TURNED_ON   \n",
       "..      ...                                                ...        ...   \n",
       "797    1190                             GUADALUPE ST / 46TH ST  TURNED_ON   \n",
       "798    1274                    CESAR CHAVEZ ST / SAN MARCOS ST  TURNED_ON   \n",
       "799    1275                     BURNET RD / RESEARCH BLVD SVRD  TURNED_ON   \n",
       "800    1276   BASTROP HWY / MONTOPOLIS TO BASTROP NB RAMP (...  TURNED_ON   \n",
       "801    1277                       BURNET RD / BRIGHT VERDE WAY  TURNED_ON   \n",
       "\n",
       "       atd_loc_id loc_type comm_stat                comm_stat_date  \\\n",
       "0    LOC16-003180  ROADWAY    ONLINE  10/28/2021 08:30:00 AM +0000   \n",
       "1    LOC16-000640  ROADWAY    ONLINE  10/29/2021 08:35:00 AM +0000   \n",
       "2    LOC16-000800  ROADWAY    ONLINE  10/28/2021 08:35:00 AM +0000   \n",
       "3    LOC16-003740  ROADWAY    ONLINE  10/23/2021 08:35:00 AM +0000   \n",
       "4    LOC16-003710  ROADWAY    ONLINE  10/20/2021 08:35:00 AM +0000   \n",
       "..            ...      ...       ...                           ...   \n",
       "797  LOC16-006535  ROADWAY    ONLINE  06/08/2021 08:30:00 AM +0000   \n",
       "798  LOC16-005790  ROADWAY   OFFLINE  05/12/2021 08:30:00 AM +0000   \n",
       "799  LOC16-003045  ROADWAY    ONLINE  03/13/2021 09:35:00 AM +0000   \n",
       "800  LOC21-017685  ROADWAY    ONLINE  10/31/2021 08:30:00 AM +0000   \n",
       "801  LOC20-017295  ROADWAY    ONLINE  06/17/2021 08:30:00 AM +0000   \n",
       "\n",
       "                                       screen_addr                        id  \\\n",
       "0     https://cctv.austinmobility.io/image/370.jpg  591a10a020eacf2d16669b94   \n",
       "1     https://cctv.austinmobility.io/image/379.jpg  591a10a020eacf2d16669ba6   \n",
       "2     https://cctv.austinmobility.io/image/404.jpg  591a10a120eacf2d16669bd8   \n",
       "3     https://cctv.austinmobility.io/image/447.jpg  591a10a320eacf2d16669c2e   \n",
       "4     https://cctv.austinmobility.io/image/552.jpg  5aa6bb0121cbcf4b8b767294   \n",
       "..                                             ...                       ...   \n",
       "797  https://cctv.austinmobility.io/image/1190.jpg  5f8da8c34e4035067602f80c   \n",
       "798  https://cctv.austinmobility.io/image/1274.jpg  5fa580608c53d7001593adf2   \n",
       "799  https://cctv.austinmobility.io/image/1275.jpg  604b73eed89027001b43b7ca   \n",
       "800  https://cctv.austinmobility.io/image/1276.jpg  60709789cd04d0001b7605d1   \n",
       "801  https://cctv.austinmobility.io/image/1277.jpg  60ca5d216ce423001e32595e   \n",
       "\n",
       "                           location       Dates      Time  \n",
       "0    POINT (-97.7449036 30.1844883)  10/28/2021  08:40:00  \n",
       "1      POINT (-97.761467 30.261982)  10/29/2021  08:45:00  \n",
       "2    POINT (-97.6904221 30.2735615)  10/29/2021  07:38:00  \n",
       "3    POINT (-97.7392883 30.3989582)  10/29/2021  07:49:00  \n",
       "4    POINT (-97.7643051 30.3030338)  10/29/2021  07:47:00  \n",
       "..                              ...         ...       ...  \n",
       "797     POINT (-97.73252 30.313028)  09/19/2021  06:17:00  \n",
       "798  POINT (-97.7346111 30.2605892)  09/19/2021  06:17:00  \n",
       "799  POINT (-97.7264786 30.3728848)  09/19/2021  06:17:00  \n",
       "800  POINT (-97.6902124 30.2427789)  10/31/2021  08:40:00  \n",
       "801        POINT (-97.7228 30.3883)  09/19/2021  06:17:00  \n",
       "\n",
       "[802 rows x 12 columns]>"
      ]
     },
     "execution_count": 61,
     "metadata": {},
     "output_type": "execute_result"
    }
   ],
   "source": [
    "df3.head"
   ]
  },
  {
   "cell_type": "markdown",
   "id": "51bad5fd",
   "metadata": {},
   "source": [
    "### 7. Split atd_loc into two new columns 'Loc' and 'code' within df3"
   ]
  },
  {
   "cell_type": "markdown",
   "id": "f17912c9",
   "metadata": {},
   "source": [
    "#### The code snippet splits the 'atd_loc_id' column in df3 into two new columns, 'Loc' and 'code', based on a - delimiter, then optionally drops the original 'atd_loc_id' column."
   ]
  },
  {
   "cell_type": "code",
   "execution_count": 81,
   "id": "73392bc9",
   "metadata": {},
   "outputs": [],
   "source": [
    "### Your code goes here ###\n",
    "# Assuming the delimiter is a dash \"-\", adjust if necessary\n",
    "split_columns = df3['atd_loc_id'].str.split('-', expand=True)\n",
    "\n",
    "# Assign the split columns to 'Loc' and 'code'\n",
    "df3['Loc'] = split_columns[0]  # The part before the delimiter\n",
    "df3['code'] = split_columns[1]\n",
    "# Drop the 'atd_loc_id' column from df3\n",
    "df3 = df3.drop(columns=['atd_loc_id'])"
   ]
  },
  {
   "cell_type": "code",
   "execution_count": 63,
   "id": "8dae84ff",
   "metadata": {
    "scrolled": true
   },
   "outputs": [
    {
     "data": {
      "text/plain": [
       "<bound method NDFrame.head of      cam_id                                           loc_name   cam_stat  \\\n",
       "0       370           PLEASANT VALLEY RD / NUCKOLS CROSSING RD  TURNED_ON   \n",
       "1       379                     BARTON SPRINGS RD / KINNEY AVE  TURNED_ON   \n",
       "2       404                     SPRINGDALE RD / OAK SPRINGS DR  TURNED_ON   \n",
       "3       447                         BRAKER LN / STONELAKE BLVD  TURNED_ON   \n",
       "4       552                      EXPOSITION BLVD / WESTOVER RD  TURNED_ON   \n",
       "..      ...                                                ...        ...   \n",
       "797    1190                             GUADALUPE ST / 46TH ST  TURNED_ON   \n",
       "798    1274                    CESAR CHAVEZ ST / SAN MARCOS ST  TURNED_ON   \n",
       "799    1275                     BURNET RD / RESEARCH BLVD SVRD  TURNED_ON   \n",
       "800    1276   BASTROP HWY / MONTOPOLIS TO BASTROP NB RAMP (...  TURNED_ON   \n",
       "801    1277                       BURNET RD / BRIGHT VERDE WAY  TURNED_ON   \n",
       "\n",
       "    loc_type comm_stat                comm_stat_date  \\\n",
       "0    ROADWAY    ONLINE  10/28/2021 08:30:00 AM +0000   \n",
       "1    ROADWAY    ONLINE  10/29/2021 08:35:00 AM +0000   \n",
       "2    ROADWAY    ONLINE  10/28/2021 08:35:00 AM +0000   \n",
       "3    ROADWAY    ONLINE  10/23/2021 08:35:00 AM +0000   \n",
       "4    ROADWAY    ONLINE  10/20/2021 08:35:00 AM +0000   \n",
       "..       ...       ...                           ...   \n",
       "797  ROADWAY    ONLINE  06/08/2021 08:30:00 AM +0000   \n",
       "798  ROADWAY   OFFLINE  05/12/2021 08:30:00 AM +0000   \n",
       "799  ROADWAY    ONLINE  03/13/2021 09:35:00 AM +0000   \n",
       "800  ROADWAY    ONLINE  10/31/2021 08:30:00 AM +0000   \n",
       "801  ROADWAY    ONLINE  06/17/2021 08:30:00 AM +0000   \n",
       "\n",
       "                                       screen_addr                        id  \\\n",
       "0     https://cctv.austinmobility.io/image/370.jpg  591a10a020eacf2d16669b94   \n",
       "1     https://cctv.austinmobility.io/image/379.jpg  591a10a020eacf2d16669ba6   \n",
       "2     https://cctv.austinmobility.io/image/404.jpg  591a10a120eacf2d16669bd8   \n",
       "3     https://cctv.austinmobility.io/image/447.jpg  591a10a320eacf2d16669c2e   \n",
       "4     https://cctv.austinmobility.io/image/552.jpg  5aa6bb0121cbcf4b8b767294   \n",
       "..                                             ...                       ...   \n",
       "797  https://cctv.austinmobility.io/image/1190.jpg  5f8da8c34e4035067602f80c   \n",
       "798  https://cctv.austinmobility.io/image/1274.jpg  5fa580608c53d7001593adf2   \n",
       "799  https://cctv.austinmobility.io/image/1275.jpg  604b73eed89027001b43b7ca   \n",
       "800  https://cctv.austinmobility.io/image/1276.jpg  60709789cd04d0001b7605d1   \n",
       "801  https://cctv.austinmobility.io/image/1277.jpg  60ca5d216ce423001e32595e   \n",
       "\n",
       "                           location       Dates      Time    Loc    code  \n",
       "0    POINT (-97.7449036 30.1844883)  10/28/2021  08:40:00  LOC16  003180  \n",
       "1      POINT (-97.761467 30.261982)  10/29/2021  08:45:00  LOC16  000640  \n",
       "2    POINT (-97.6904221 30.2735615)  10/29/2021  07:38:00  LOC16  000800  \n",
       "3    POINT (-97.7392883 30.3989582)  10/29/2021  07:49:00  LOC16  003740  \n",
       "4    POINT (-97.7643051 30.3030338)  10/29/2021  07:47:00  LOC16  003710  \n",
       "..                              ...         ...       ...    ...     ...  \n",
       "797     POINT (-97.73252 30.313028)  09/19/2021  06:17:00  LOC16  006535  \n",
       "798  POINT (-97.7346111 30.2605892)  09/19/2021  06:17:00  LOC16  005790  \n",
       "799  POINT (-97.7264786 30.3728848)  09/19/2021  06:17:00  LOC16  003045  \n",
       "800  POINT (-97.6902124 30.2427789)  10/31/2021  08:40:00  LOC21  017685  \n",
       "801        POINT (-97.7228 30.3883)  09/19/2021  06:17:00  LOC20  017295  \n",
       "\n",
       "[802 rows x 13 columns]>"
      ]
     },
     "execution_count": 63,
     "metadata": {},
     "output_type": "execute_result"
    }
   ],
   "source": [
    "df3.head"
   ]
  },
  {
   "cell_type": "markdown",
   "id": "0bf32376",
   "metadata": {},
   "source": [
    "### 8. What are the unique values in loc_type?"
   ]
  },
  {
   "cell_type": "code",
   "execution_count": 82,
   "id": "6e24c032",
   "metadata": {},
   "outputs": [
    {
     "name": "stdout",
     "output_type": "stream",
     "text": [
      "['ROADWAY' 'BUILDING']\n"
     ]
    }
   ],
   "source": [
    "### Your code goes here ###\n",
    "# Get unique values in the 'loc_type' column\n",
    "unique_values = df3['loc_type'].unique()\n",
    "\n",
    "print(unique_values)"
   ]
  },
  {
   "cell_type": "markdown",
   "id": "7afea785",
   "metadata": {},
   "source": [
    "### ['ROADWAY' 'BUILDING']"
   ]
  },
  {
   "cell_type": "markdown",
   "id": "84263370",
   "metadata": {},
   "source": [
    "### 9. Replace 'ROADWAY' to '0',  'BUILDING' to '1' in the loc_type column within df3"
   ]
  },
  {
   "cell_type": "code",
   "execution_count": 83,
   "id": "6e47a66e",
   "metadata": {},
   "outputs": [],
   "source": [
    "### Your code goes here ###\n",
    "# Replace 'ROADWAY' with '0' and 'BUILDING' with '1' in the 'loc_type' column\n",
    "df3['loc_type'] = df3['loc_type'].replace({'ROADWAY': '0', 'BUILDING': '1'})\n"
   ]
  },
  {
   "cell_type": "code",
   "execution_count": 84,
   "id": "dae2bb74",
   "metadata": {},
   "outputs": [
    {
     "data": {
      "text/plain": [
       "<bound method NDFrame.head of      cam_id                                           loc_name   cam_stat  \\\n",
       "0       370           PLEASANT VALLEY RD / NUCKOLS CROSSING RD  TURNED_ON   \n",
       "1       379                     BARTON SPRINGS RD / KINNEY AVE  TURNED_ON   \n",
       "2       404                     SPRINGDALE RD / OAK SPRINGS DR  TURNED_ON   \n",
       "3       447                         BRAKER LN / STONELAKE BLVD  TURNED_ON   \n",
       "4       552                      EXPOSITION BLVD / WESTOVER RD  TURNED_ON   \n",
       "..      ...                                                ...        ...   \n",
       "797    1190                             GUADALUPE ST / 46TH ST  TURNED_ON   \n",
       "798    1274                    CESAR CHAVEZ ST / SAN MARCOS ST  TURNED_ON   \n",
       "799    1275                     BURNET RD / RESEARCH BLVD SVRD  TURNED_ON   \n",
       "800    1276   BASTROP HWY / MONTOPOLIS TO BASTROP NB RAMP (...  TURNED_ON   \n",
       "801    1277                       BURNET RD / BRIGHT VERDE WAY  TURNED_ON   \n",
       "\n",
       "    loc_type comm_stat                comm_stat_date  \\\n",
       "0          0    ONLINE  10/28/2021 08:30:00 AM +0000   \n",
       "1          0    ONLINE  10/29/2021 08:35:00 AM +0000   \n",
       "2          0    ONLINE  10/28/2021 08:35:00 AM +0000   \n",
       "3          0    ONLINE  10/23/2021 08:35:00 AM +0000   \n",
       "4          0    ONLINE  10/20/2021 08:35:00 AM +0000   \n",
       "..       ...       ...                           ...   \n",
       "797        0    ONLINE  06/08/2021 08:30:00 AM +0000   \n",
       "798        0   OFFLINE  05/12/2021 08:30:00 AM +0000   \n",
       "799        0    ONLINE  03/13/2021 09:35:00 AM +0000   \n",
       "800        0    ONLINE  10/31/2021 08:30:00 AM +0000   \n",
       "801        0    ONLINE  06/17/2021 08:30:00 AM +0000   \n",
       "\n",
       "                                       screen_addr                        id  \\\n",
       "0     https://cctv.austinmobility.io/image/370.jpg  591a10a020eacf2d16669b94   \n",
       "1     https://cctv.austinmobility.io/image/379.jpg  591a10a020eacf2d16669ba6   \n",
       "2     https://cctv.austinmobility.io/image/404.jpg  591a10a120eacf2d16669bd8   \n",
       "3     https://cctv.austinmobility.io/image/447.jpg  591a10a320eacf2d16669c2e   \n",
       "4     https://cctv.austinmobility.io/image/552.jpg  5aa6bb0121cbcf4b8b767294   \n",
       "..                                             ...                       ...   \n",
       "797  https://cctv.austinmobility.io/image/1190.jpg  5f8da8c34e4035067602f80c   \n",
       "798  https://cctv.austinmobility.io/image/1274.jpg  5fa580608c53d7001593adf2   \n",
       "799  https://cctv.austinmobility.io/image/1275.jpg  604b73eed89027001b43b7ca   \n",
       "800  https://cctv.austinmobility.io/image/1276.jpg  60709789cd04d0001b7605d1   \n",
       "801  https://cctv.austinmobility.io/image/1277.jpg  60ca5d216ce423001e32595e   \n",
       "\n",
       "                           location       Dates      Time    Loc    code  \n",
       "0    POINT (-97.7449036 30.1844883)  10/28/2021  08:40:00  LOC16  003180  \n",
       "1      POINT (-97.761467 30.261982)  10/29/2021  08:45:00  LOC16  000640  \n",
       "2    POINT (-97.6904221 30.2735615)  10/29/2021  07:38:00  LOC16  000800  \n",
       "3    POINT (-97.7392883 30.3989582)  10/29/2021  07:49:00  LOC16  003740  \n",
       "4    POINT (-97.7643051 30.3030338)  10/29/2021  07:47:00  LOC16  003710  \n",
       "..                              ...         ...       ...    ...     ...  \n",
       "797     POINT (-97.73252 30.313028)  09/19/2021  06:17:00  LOC16  006535  \n",
       "798  POINT (-97.7346111 30.2605892)  09/19/2021  06:17:00  LOC16  005790  \n",
       "799  POINT (-97.7264786 30.3728848)  09/19/2021  06:17:00  LOC16  003045  \n",
       "800  POINT (-97.6902124 30.2427789)  10/31/2021  08:40:00  LOC21  017685  \n",
       "801        POINT (-97.7228 30.3883)  09/19/2021  06:17:00  LOC20  017295  \n",
       "\n",
       "[802 rows x 13 columns]>"
      ]
     },
     "execution_count": 84,
     "metadata": {},
     "output_type": "execute_result"
    }
   ],
   "source": [
    "df3.head"
   ]
  },
  {
   "cell_type": "code",
   "execution_count": 85,
   "id": "a4fd78da",
   "metadata": {},
   "outputs": [
    {
     "data": {
      "text/plain": [
       "array(['0', '1'], dtype=object)"
      ]
     },
     "execution_count": 85,
     "metadata": {},
     "output_type": "execute_result"
    }
   ],
   "source": [
    "df3.loc_type.unique()"
   ]
  },
  {
   "cell_type": "markdown",
   "id": "903acc12",
   "metadata": {},
   "source": [
    "### 10. Split the loc_name column into two new variables 'corner1', 'corner2' on '/'"
   ]
  },
  {
   "cell_type": "code",
   "execution_count": 86,
   "id": "e7dbdb07",
   "metadata": {},
   "outputs": [],
   "source": [
    "### Your code goes here ###\n",
    "# Perform the split operation\n",
    "split_df = df3['loc_name'].str.split('/', expand=True)\n",
    "\n",
    "# Assign the first part to 'corner1'. If the split results in only one part, this will be that part.\n",
    "df3['corner1'] = split_df[0]\n",
    "\n",
    "# Assign the second part to 'corner2'. If the split does not result in a second part, this will be None (NaN in pandas).\n",
    "# This uses .get() on the columns to avoid KeyError if the index does not exist.\n",
    "df3['corner2'] = split_df.get(1)\n",
    "\n",
    "# Now, df3 includes the new 'corner1' and 'corner2' columns, with handling for rows that don't have a '/'\n",
    "df3 = df3.drop(columns=['loc_name'])\n"
   ]
  },
  {
   "cell_type": "code",
   "execution_count": 87,
   "id": "d65e0e81",
   "metadata": {},
   "outputs": [
    {
     "data": {
      "text/plain": [
       "<bound method NDFrame.head of      cam_id   cam_stat loc_type comm_stat                comm_stat_date  \\\n",
       "0       370  TURNED_ON        0    ONLINE  10/28/2021 08:30:00 AM +0000   \n",
       "1       379  TURNED_ON        0    ONLINE  10/29/2021 08:35:00 AM +0000   \n",
       "2       404  TURNED_ON        0    ONLINE  10/28/2021 08:35:00 AM +0000   \n",
       "3       447  TURNED_ON        0    ONLINE  10/23/2021 08:35:00 AM +0000   \n",
       "4       552  TURNED_ON        0    ONLINE  10/20/2021 08:35:00 AM +0000   \n",
       "..      ...        ...      ...       ...                           ...   \n",
       "797    1190  TURNED_ON        0    ONLINE  06/08/2021 08:30:00 AM +0000   \n",
       "798    1274  TURNED_ON        0   OFFLINE  05/12/2021 08:30:00 AM +0000   \n",
       "799    1275  TURNED_ON        0    ONLINE  03/13/2021 09:35:00 AM +0000   \n",
       "800    1276  TURNED_ON        0    ONLINE  10/31/2021 08:30:00 AM +0000   \n",
       "801    1277  TURNED_ON        0    ONLINE  06/17/2021 08:30:00 AM +0000   \n",
       "\n",
       "                                       screen_addr                        id  \\\n",
       "0     https://cctv.austinmobility.io/image/370.jpg  591a10a020eacf2d16669b94   \n",
       "1     https://cctv.austinmobility.io/image/379.jpg  591a10a020eacf2d16669ba6   \n",
       "2     https://cctv.austinmobility.io/image/404.jpg  591a10a120eacf2d16669bd8   \n",
       "3     https://cctv.austinmobility.io/image/447.jpg  591a10a320eacf2d16669c2e   \n",
       "4     https://cctv.austinmobility.io/image/552.jpg  5aa6bb0121cbcf4b8b767294   \n",
       "..                                             ...                       ...   \n",
       "797  https://cctv.austinmobility.io/image/1190.jpg  5f8da8c34e4035067602f80c   \n",
       "798  https://cctv.austinmobility.io/image/1274.jpg  5fa580608c53d7001593adf2   \n",
       "799  https://cctv.austinmobility.io/image/1275.jpg  604b73eed89027001b43b7ca   \n",
       "800  https://cctv.austinmobility.io/image/1276.jpg  60709789cd04d0001b7605d1   \n",
       "801  https://cctv.austinmobility.io/image/1277.jpg  60ca5d216ce423001e32595e   \n",
       "\n",
       "                           location       Dates      Time    Loc    code  \\\n",
       "0    POINT (-97.7449036 30.1844883)  10/28/2021  08:40:00  LOC16  003180   \n",
       "1      POINT (-97.761467 30.261982)  10/29/2021  08:45:00  LOC16  000640   \n",
       "2    POINT (-97.6904221 30.2735615)  10/29/2021  07:38:00  LOC16  000800   \n",
       "3    POINT (-97.7392883 30.3989582)  10/29/2021  07:49:00  LOC16  003740   \n",
       "4    POINT (-97.7643051 30.3030338)  10/29/2021  07:47:00  LOC16  003710   \n",
       "..                              ...         ...       ...    ...     ...   \n",
       "797     POINT (-97.73252 30.313028)  09/19/2021  06:17:00  LOC16  006535   \n",
       "798  POINT (-97.7346111 30.2605892)  09/19/2021  06:17:00  LOC16  005790   \n",
       "799  POINT (-97.7264786 30.3728848)  09/19/2021  06:17:00  LOC16  003045   \n",
       "800  POINT (-97.6902124 30.2427789)  10/31/2021  08:40:00  LOC21  017685   \n",
       "801        POINT (-97.7228 30.3883)  09/19/2021  06:17:00  LOC20  017295   \n",
       "\n",
       "                  corner1                                 corner2  \n",
       "0     PLEASANT VALLEY RD                      NUCKOLS CROSSING RD  \n",
       "1      BARTON SPRINGS RD                               KINNEY AVE  \n",
       "2          SPRINGDALE RD                           OAK SPRINGS DR  \n",
       "3              BRAKER LN                           STONELAKE BLVD  \n",
       "4        EXPOSITION BLVD                              WESTOVER RD  \n",
       "..                    ...                                     ...  \n",
       "797         GUADALUPE ST                                  46TH ST  \n",
       "798      CESAR CHAVEZ ST                            SAN MARCOS ST  \n",
       "799            BURNET RD                       RESEARCH BLVD SVRD  \n",
       "800          BASTROP HWY    MONTOPOLIS TO BASTROP NB RAMP (US 183  \n",
       "801            BURNET RD                         BRIGHT VERDE WAY  \n",
       "\n",
       "[802 rows x 14 columns]>"
      ]
     },
     "execution_count": 87,
     "metadata": {},
     "output_type": "execute_result"
    }
   ],
   "source": [
    "df3.head"
   ]
  }
 ],
 "metadata": {
  "kernelspec": {
   "display_name": "Python 3 (ipykernel)",
   "language": "python",
   "name": "python3"
  },
  "language_info": {
   "codemirror_mode": {
    "name": "ipython",
    "version": 3
   },
   "file_extension": ".py",
   "mimetype": "text/x-python",
   "name": "python",
   "nbconvert_exporter": "python",
   "pygments_lexer": "ipython3",
   "version": "3.9.7"
  }
 },
 "nbformat": 4,
 "nbformat_minor": 5
}
